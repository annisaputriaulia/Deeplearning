{
  "nbformat": 4,
  "nbformat_minor": 0,
  "metadata": {
    "colab": {
      "name": "Tugas DL Minggu 3.ipynb",
      "provenance": []
    },
    "kernelspec": {
      "name": "python3",
      "display_name": "Python 3"
    },
    "language_info": {
      "name": "python"
    }
  },
  "cells": [
    {
      "cell_type": "markdown",
      "source": [
        "Nama : Annisa Putri Aulia\n",
        "\n",
        "Nim : H071191029\n",
        "\n",
        "Tugas Deep Learning Minggu 3\n",
        "\n",
        "soal : Pelajari https://d2l.ai/chapter_deep-learning-computation/index.html"
      ],
      "metadata": {
        "id": "yF4j1zX3JbTL"
      }
    },
    {
      "cell_type": "code",
      "source": [
        "import tensorflow as tf\n",
        "from tensorflow import keras"
      ],
      "metadata": {
        "id": "UEMN1PSPJ2KU"
      },
      "execution_count": 1,
      "outputs": []
    },
    {
      "cell_type": "markdown",
      "source": [
        "1. Layer dan Blocks\n",
        "Layer merupakan arsitektur atau struktur yang berisi kumpulan node yang beroperasi secara dan di waktu yang bersamaan, yang mengambil informasi dari layer sebelumnya dan kemudian meneruskan informasi ke layer berikutnya.\n",
        "\n",
        "Block atau neural network blocks merupakan konsep di mana satu atau lebih layer digambarkan / diabstraksi menjadi satu komponen (block). Salah satu manfaat utama dari abstraksi blocks adalah blocks ini bisa lagi dikombinasikan menjadi struktur yang lebih besar (biasanya secara rekursif).\n",
        "\n",
        "\n",
        "Dengan menggunakan konsep blocks ini, kita tetap dapat menulis kode yang ringkas dan masih mengimplementasikan neural net yang kompleks. Untuk mengimplementasikan blocks, kita membuat fungsi atau jika ingin fleksibel, kelas turunan dari tensorflow.keras.Model yang memiliki fungsi forward propagation (fungsi call()) . Contoh implementasi kode"
      ],
      "metadata": {
        "id": "b2jChAQDKUHC"
      }
    },
    {
      "cell_type": "code",
      "source": [
        "# Data: digenerate secara random\n",
        "X = tf.random.uniform((2, 20))\n",
        "\n",
        "X"
      ],
      "metadata": {
        "colab": {
          "base_uri": "https://localhost:8080/"
        },
        "id": "UlXKFR1ELfpV",
        "outputId": "399972d9-bafe-475a-c04f-9977345cf0db"
      },
      "execution_count": 2,
      "outputs": [
        {
          "output_type": "execute_result",
          "data": {
            "text/plain": [
              "<tf.Tensor: shape=(2, 20), dtype=float32, numpy=\n",
              "array([[0.30787158, 0.3728453 , 0.03039014, 0.60959554, 0.960413  ,\n",
              "        0.29244947, 0.5469928 , 0.12978256, 0.4818523 , 0.5512279 ,\n",
              "        0.681303  , 0.27853668, 0.5265553 , 0.71858525, 0.968745  ,\n",
              "        0.4811046 , 0.5655756 , 0.1803906 , 0.29843092, 0.92003584],\n",
              "       [0.08929896, 0.25036108, 0.67826724, 0.9433805 , 0.49905705,\n",
              "        0.90702677, 0.7370039 , 0.8914101 , 0.02507567, 0.28068447,\n",
              "        0.68392515, 0.34574533, 0.7581719 , 0.02627659, 0.5795628 ,\n",
              "        0.76301944, 0.41747952, 0.9528055 , 0.05830562, 0.9686831 ]],\n",
              "      dtype=float32)>"
            ]
          },
          "metadata": {},
          "execution_count": 2
        }
      ]
    },
    {
      "cell_type": "markdown",
      "source": [
        "Misalnya model yang akan dijadikan blok merupakan model seperti ini"
      ],
      "metadata": {
        "id": "syC0ePyGLkUn"
      }
    },
    {
      "cell_type": "code",
      "source": [
        "block1 = keras.models.Sequential([\n",
        "    keras.layers.Dense(256, activation=tf.nn.relu),\n",
        "    keras.layers.Dense(10),\n",
        "])"
      ],
      "metadata": {
        "id": "VueZOZHHLk_G"
      },
      "execution_count": 3,
      "outputs": []
    },
    {
      "cell_type": "markdown",
      "source": [
        "Bentuk bloknya:"
      ],
      "metadata": {
        "id": "fS0GkhZ9Lolf"
      }
    },
    {
      "cell_type": "code",
      "source": [
        "class Block1(keras.Model):\n",
        "    def __init__(self):\n",
        "        super().__init__()\n",
        "        self.layer_list= []\n",
        "        self.layer_list.append(keras.layers.Dense(256, activation=tf.nn.relu))\n",
        "        self.layer_list.append(keras.layers.Dense(10))\n",
        "        self.layer_list.reverse()\n",
        "    \n",
        "    def call(self, X):\n",
        "        result_temp= X\n",
        "\n",
        "        # Melakukan forward propagation sampai layer terakhir dalam list \n",
        "        while bool(self.layer_list):\n",
        "            result_temp= self.layer_list.pop()(result_temp)\n",
        "\n",
        "        return result_temp\n",
        "        # return 1"
      ],
      "metadata": {
        "id": "F_XgZnGBLpIB"
      },
      "execution_count": 4,
      "outputs": []
    },
    {
      "cell_type": "code",
      "source": [
        "net= Block1()\n",
        "net(X) # Sama saja dengan net.call(X)"
      ],
      "metadata": {
        "colab": {
          "base_uri": "https://localhost:8080/"
        },
        "id": "X6AkOPV5LtUB",
        "outputId": "08be7965-50ad-4357-941f-39c3515570bb"
      },
      "execution_count": 5,
      "outputs": [
        {
          "output_type": "execute_result",
          "data": {
            "text/plain": [
              "<tf.Tensor: shape=(2, 10), dtype=float32, numpy=\n",
              "array([[ 0.00637328,  0.23333551, -0.07434475,  0.12067626,  0.20530316,\n",
              "         0.29963946,  0.00518246, -0.07541624,  0.08535212, -0.00926593],\n",
              "       [ 0.00639129,  0.12510358, -0.12528375,  0.15067631,  0.17411584,\n",
              "         0.325081  , -0.19129105,  0.13203019, -0.03842275, -0.05086474]],\n",
              "      dtype=float32)>"
            ]
          },
          "metadata": {},
          "execution_count": 5
        }
      ]
    },
    {
      "cell_type": "markdown",
      "source": [
        "Selanjutnya kita akan membuat block ke dua yang tidak mengandung layer satu per satu tapi mengandung model"
      ],
      "metadata": {
        "id": "um11ElMdLwks"
      }
    },
    {
      "cell_type": "code",
      "source": [
        "class Block2(keras.Model):\n",
        "    def __init__(self):\n",
        "        super().__init__()\n",
        "        self.net= keras.Sequential()\n",
        "        self.net.add(keras.layers.Dense(256, activation=tf.nn.relu))\n",
        "        self.net.add(keras.layers.Dense(10))\n",
        "    \n",
        "    def call(self, X):\n",
        "        return self.net(X)"
      ],
      "metadata": {
        "id": "X7Raru92Lw93"
      },
      "execution_count": 6,
      "outputs": []
    },
    {
      "cell_type": "markdown",
      "source": [
        "Kemudian disatukan bersama"
      ],
      "metadata": {
        "id": "sleXIEqxL1IQ"
      }
    },
    {
      "cell_type": "code",
      "source": [
        "net= keras.Sequential()\n",
        "\n",
        "# Menambahkan layer pertama yang mana merupakan block 2\n",
        "net.add(Block2())\n",
        "\n",
        "# Menambahkan block 1\n",
        "net.add(Block1())\n",
        "\n",
        "# # Menambahkan satu lagi layer dense biasa\n",
        "net.add(keras.layers.Dense(10, activation= 'sigmoid'))\n",
        "\n",
        "# Melakukan forward propagation\n",
        "net(X)"
      ],
      "metadata": {
        "colab": {
          "base_uri": "https://localhost:8080/"
        },
        "id": "2PDBxhHXL1sb",
        "outputId": "ca060196-3333-4495-b3ac-5dfeeb2b234e"
      },
      "execution_count": 7,
      "outputs": [
        {
          "output_type": "execute_result",
          "data": {
            "text/plain": [
              "<tf.Tensor: shape=(2, 10), dtype=float32, numpy=\n",
              "array([[0.57707757, 0.58166116, 0.5321636 , 0.6268364 , 0.5452533 ,\n",
              "        0.49243551, 0.43619287, 0.5362292 , 0.41937172, 0.46161866],\n",
              "       [0.573516  , 0.5937405 , 0.5796414 , 0.56678647, 0.58025855,\n",
              "        0.5279852 , 0.44973466, 0.6054406 , 0.5076211 , 0.40960175]],\n",
              "      dtype=float32)>"
            ]
          },
          "metadata": {},
          "execution_count": 7
        }
      ]
    },
    {
      "cell_type": "markdown",
      "source": [
        "**2. Parameter Management**\n",
        "Parameter management atau manajemen parameter termasuk (Parameter dalam kasus neural network contohnya weight dan bias, fungsi loss atau learning rate merupakan hyperparameter):\n",
        "\n",
        "Mengakses parameter untuk debugging, diagnostik, dan\n",
        "visualisasi.\n",
        "Inisialisasi parameter.\n",
        "Berbagi parameter dengan komponen model lain.\n",
        "\n",
        "**Mengakses Parameter**\n",
        "\n",
        "Model:"
      ],
      "metadata": {
        "id": "DPtRbkRsL6eH"
      }
    },
    {
      "cell_type": "code",
      "source": [
        "net = keras.models.Sequential([\n",
        "    keras.layers.Flatten(),\n",
        "    keras.layers.Dense(4, activation=tf.nn.relu),\n",
        "    keras.layers.Dense(1),\n",
        "])\n",
        "\n",
        "X = tf.random.uniform((2, 4))\n",
        "net(X)"
      ],
      "metadata": {
        "colab": {
          "base_uri": "https://localhost:8080/"
        },
        "id": "FZDsLf9LMHEN",
        "outputId": "c8a2fcb1-e264-485a-ca66-db359f373706"
      },
      "execution_count": 8,
      "outputs": [
        {
          "output_type": "execute_result",
          "data": {
            "text/plain": [
              "<tf.Tensor: shape=(2, 1), dtype=float32, numpy=\n",
              "array([[-0.10075305],\n",
              "       [ 0.03059036]], dtype=float32)>"
            ]
          },
          "metadata": {},
          "execution_count": 8
        }
      ]
    },
    {
      "cell_type": "markdown",
      "source": [
        "Mengambil weight dan bias dari setiap layer net"
      ],
      "metadata": {
        "id": "gmE_eJa9MKGz"
      }
    },
    {
      "cell_type": "code",
      "source": [
        "net.weights\n",
        "# Atau net.get_weights()"
      ],
      "metadata": {
        "colab": {
          "base_uri": "https://localhost:8080/"
        },
        "id": "H2wRkrWuMDh3",
        "outputId": "bfd1607d-f6c5-4c62-a629-bbcfb82576a5"
      },
      "execution_count": 9,
      "outputs": [
        {
          "output_type": "execute_result",
          "data": {
            "text/plain": [
              "[<tf.Variable 'dense_9/kernel:0' shape=(4, 4) dtype=float32, numpy=\n",
              " array([[-0.49756283,  0.627852  , -0.38583094,  0.1821503 ],\n",
              "        [-0.3833196 , -0.23057151, -0.06623125,  0.83617014],\n",
              "        [ 0.40399784,  0.67305535, -0.4240956 ,  0.5449104 ],\n",
              "        [-0.2774384 , -0.40975744,  0.63852435, -0.6100112 ]],\n",
              "       dtype=float32)>,\n",
              " <tf.Variable 'dense_9/bias:0' shape=(4,) dtype=float32, numpy=array([0., 0., 0., 0.], dtype=float32)>,\n",
              " <tf.Variable 'dense_10/kernel:0' shape=(4, 1) dtype=float32, numpy=\n",
              " array([[ 0.16241813],\n",
              "        [ 0.05146575],\n",
              "        [ 0.7021854 ],\n",
              "        [-0.2188415 ]], dtype=float32)>,\n",
              " <tf.Variable 'dense_10/bias:0' shape=(1,) dtype=float32, numpy=array([0.], dtype=float32)>]"
            ]
          },
          "metadata": {},
          "execution_count": 9
        }
      ]
    },
    {
      "cell_type": "markdown",
      "source": [
        "Untuk mendapatkan parameter pada layer yang ingin diakses, dilakukan dengan memanggil atribut .layers[index dari layer] dari model sequential. Misal layer yang ingin diakses parameternya yaitu layer indeks ke-1"
      ],
      "metadata": {
        "id": "BOtZkVu6MOiP"
      }
    },
    {
      "cell_type": "code",
      "source": [
        "net.layers[1]"
      ],
      "metadata": {
        "colab": {
          "base_uri": "https://localhost:8080/"
        },
        "id": "TlpyXuj3MPMH",
        "outputId": "dc5ad62c-ef87-43c3-f3dc-395a38a0fcd5"
      },
      "execution_count": 10,
      "outputs": [
        {
          "output_type": "execute_result",
          "data": {
            "text/plain": [
              "<keras.layers.core.dense.Dense at 0x7f4def1e8510>"
            ]
          },
          "metadata": {},
          "execution_count": 10
        }
      ]
    },
    {
      "cell_type": "markdown",
      "source": [
        "Selanjutnya untuk mengakses parameter weight dan bias"
      ],
      "metadata": {
        "id": "ahvGpzU4MY8g"
      }
    },
    {
      "cell_type": "code",
      "source": [
        "net.layers[1].weights"
      ],
      "metadata": {
        "colab": {
          "base_uri": "https://localhost:8080/"
        },
        "id": "H9lkHbAfMaR2",
        "outputId": "5bef0fae-fa78-48c0-d0d5-be4047cd9583"
      },
      "execution_count": 11,
      "outputs": [
        {
          "output_type": "execute_result",
          "data": {
            "text/plain": [
              "[<tf.Variable 'dense_9/kernel:0' shape=(4, 4) dtype=float32, numpy=\n",
              " array([[-0.49756283,  0.627852  , -0.38583094,  0.1821503 ],\n",
              "        [-0.3833196 , -0.23057151, -0.06623125,  0.83617014],\n",
              "        [ 0.40399784,  0.67305535, -0.4240956 ,  0.5449104 ],\n",
              "        [-0.2774384 , -0.40975744,  0.63852435, -0.6100112 ]],\n",
              "       dtype=float32)>,\n",
              " <tf.Variable 'dense_9/bias:0' shape=(4,) dtype=float32, numpy=array([0., 0., 0., 0.], dtype=float32)>]"
            ]
          },
          "metadata": {},
          "execution_count": 11
        }
      ]
    },
    {
      "cell_type": "markdown",
      "source": [
        "Outputnya berupa array, indeks ke-0 merupakan weights, indeks ke-1 merupakan bias\n",
        "\n",
        "Untuk layer yang berupa block (memiliki layer lagi di dalamnya), kita tetap bisa mengakses nya seperti ini:\n",
        "\n",
        "net.layers[0].layers[1].layers[1].weights[1]\n",
        "\n",
        "**Inisialisasi Parameter**\n",
        "\n",
        "Secara default (untuk tensorflow), matriks weight diinisialisasikan berdasarkan range yang dikomputasi dari dimensi input dan output, sementara parameter bias mempunyai nilai default 0.\n",
        "\n",
        "Misal menginisialisasi weight sebagai variabel random Gaussian dengan standar deviasi 0.01, dan menginisialisasi parameter bias dengan nilai 0"
      ],
      "metadata": {
        "id": "utYUgsPnMgYu"
      }
    },
    {
      "cell_type": "code",
      "source": [
        "net = keras.models.Sequential([\n",
        "    keras.layers.Flatten(),\n",
        "    keras.layers.Dense(4, activation=tf.nn.relu, \n",
        "                       kernel_initializer=tf.random_normal_initializer(mean=0, stddev=0.01), \n",
        "                       bias_initializer=tf.zeros_initializer()),\n",
        "    keras.layers.Dense(1)\n",
        "])\n",
        "\n",
        "net(X)\n",
        "net.layers[1].weights[0], net.layers[1].weights[1]"
      ],
      "metadata": {
        "colab": {
          "base_uri": "https://localhost:8080/"
        },
        "id": "viYi97ALMkoC",
        "outputId": "ad492acb-f7d7-419c-f8c8-df1bfb4ec353"
      },
      "execution_count": 12,
      "outputs": [
        {
          "output_type": "execute_result",
          "data": {
            "text/plain": [
              "(<tf.Variable 'dense_11/kernel:0' shape=(4, 4) dtype=float32, numpy=\n",
              " array([[-0.0019742 , -0.01118323, -0.00892487,  0.00309992],\n",
              "        [-0.00017186,  0.01191985,  0.00046774, -0.00797555],\n",
              "        [ 0.00871554,  0.0064146 ,  0.02402176,  0.00839928],\n",
              "        [-0.01670321,  0.00804337,  0.02824247, -0.00047538]],\n",
              "       dtype=float32)>,\n",
              " <tf.Variable 'dense_11/bias:0' shape=(4,) dtype=float32, numpy=array([0., 0., 0., 0.], dtype=float32)>)"
            ]
          },
          "metadata": {},
          "execution_count": 12
        }
      ]
    },
    {
      "cell_type": "markdown",
      "source": [
        "Kita juga bisa menginisialisasikan weight yang berbeda pada setiap layer, misal weight layer dense kedua diisi dengan angka konstan 0.5."
      ],
      "metadata": {
        "id": "JPjGVydsMotR"
      }
    },
    {
      "cell_type": "code",
      "source": [
        "net = keras.models.Sequential([\n",
        "    keras.layers.Flatten(),\n",
        "    keras.layers.Dense(4, activation=tf.nn.relu, \n",
        "                       kernel_initializer=tf.random_normal_initializer(mean=0, stddev=0.01), \n",
        "                       bias_initializer=tf.zeros_initializer()),\n",
        "    keras.layers.Dense(4, activation=tf.nn.relu, \n",
        "                       kernel_initializer=keras.initializers.Constant(0.5), \n",
        "                       bias_initializer=tf.zeros_initializer()),\n",
        "    keras.layers.Dense(1)\n",
        "])\n",
        "\n",
        "net(X)\n",
        "net.layers[1].weights[0], net.layers[2].weights[0]"
      ],
      "metadata": {
        "colab": {
          "base_uri": "https://localhost:8080/"
        },
        "id": "cilBb2X3MpOn",
        "outputId": "79298d73-ddea-4386-b845-8046a87ad27a"
      },
      "execution_count": 13,
      "outputs": [
        {
          "output_type": "execute_result",
          "data": {
            "text/plain": [
              "(<tf.Variable 'dense_13/kernel:0' shape=(4, 4) dtype=float32, numpy=\n",
              " array([[ 0.00741534, -0.0134807 , -0.00712053,  0.00797166],\n",
              "        [-0.00052987, -0.01749855,  0.01553926,  0.0109643 ],\n",
              "        [-0.00527088,  0.00283997,  0.00884217,  0.00102325],\n",
              "        [ 0.00343966, -0.00746868,  0.0097209 , -0.01068751]],\n",
              "       dtype=float32)>,\n",
              " <tf.Variable 'dense_14/kernel:0' shape=(4, 4) dtype=float32, numpy=\n",
              " array([[0.5, 0.5, 0.5, 0.5],\n",
              "        [0.5, 0.5, 0.5, 0.5],\n",
              "        [0.5, 0.5, 0.5, 0.5],\n",
              "        [0.5, 0.5, 0.5, 0.5]], dtype=float32)>)"
            ]
          },
          "metadata": {},
          "execution_count": 13
        }
      ]
    },
    {
      "cell_type": "markdown",
      "source": [
        "Kita juga bisa membuat subclass kita sendiri untuk inisialisasi weight jika cara di atas kurang flexibel, caranya yaitu kita membuat class subclass dari keras.initializers.Initializer , lalu mengimplementasikan method call(shape, dtype) yang me-return tensor (berisi weight inisial) yang isinya sesuai kemauan kita"
      ],
      "metadata": {
        "id": "iMZB0XH_Mtyr"
      }
    },
    {
      "cell_type": "code",
      "source": [
        "# Di sini kita membuat class untuk inisialisasi weight\n",
        "class MyInit(tf.keras.initializers.Initializer):\n",
        "    def __call__(self, shape, dtype=None):\n",
        "        data=tf.random.uniform(shape, -10, 10, dtype=dtype)\n",
        "        factor=(tf.abs(data) >= 5)\n",
        "        factor=tf.cast(factor, tf.float32)\n",
        "        return data * factor"
      ],
      "metadata": {
        "id": "8HEjX2UPMue6"
      },
      "execution_count": 14,
      "outputs": []
    },
    {
      "cell_type": "code",
      "source": [
        "MyInit().__call__(shape=(3, 3), dtype=tf.float32)"
      ],
      "metadata": {
        "colab": {
          "base_uri": "https://localhost:8080/"
        },
        "id": "7roiiTdHMz91",
        "outputId": "040a9e74-5156-41c5-d1c8-4025703f342e"
      },
      "execution_count": 15,
      "outputs": [
        {
          "output_type": "execute_result",
          "data": {
            "text/plain": [
              "<tf.Tensor: shape=(3, 3), dtype=float32, numpy=\n",
              "array([[ 8.308256, -0.      , -0.      ],\n",
              "       [-0.      ,  5.700405,  5.467098],\n",
              "       [ 5.282655,  0.      , -0.      ]], dtype=float32)>"
            ]
          },
          "metadata": {},
          "execution_count": 15
        }
      ]
    },
    {
      "cell_type": "code",
      "source": [
        "net = keras.models.Sequential([\n",
        "    keras.layers.Flatten(),\n",
        "    # Memasukkan kelas initializer pada parameter kernel_initializer\n",
        "    keras.layers.Dense(4, activation=tf.nn.relu, kernel_initializer=MyInit()),\n",
        "    keras.layers.Dense(1),\n",
        "])\n",
        "\n",
        "net(X)\n",
        "print(net.layers[1].weights[0])"
      ],
      "metadata": {
        "colab": {
          "base_uri": "https://localhost:8080/"
        },
        "id": "nQFF0XqbM2p3",
        "outputId": "7b1a1eb9-75c0-45bb-9256-40feeb0094e2"
      },
      "execution_count": 16,
      "outputs": [
        {
          "output_type": "stream",
          "name": "stdout",
          "text": [
            "<tf.Variable 'dense_16/kernel:0' shape=(4, 4) dtype=float32, numpy=\n",
            "array([[-9.82738  , -0.       ,  0.       ,  0.       ],\n",
            "       [ 5.5889816,  0.       , -9.834247 ,  7.05093  ],\n",
            "       [-0.       , -7.3816943, -0.       , -7.33598  ],\n",
            "       [ 0.       ,  5.0180054, -0.       , -0.       ]], dtype=float32)>\n"
          ]
        }
      ]
    },
    {
      "cell_type": "markdown",
      "source": [
        "**3. Deferred Initialization**\n",
        "\n",
        "Inisialisasi weight pada model ditangguhkan sebelum data di-pass ke model. Ini dikarenakan model masih belum mengetahui input shape dari data, maka dari itu model menangguhkan inisialisasi parameter, konsep ini juga membuat kita tidak perlu mendefinisikan input shape dari setiap layer, yang mana pastinya sangat membantu terutama jika dataset berupa gambar (yang mana mempunyai shape yang dinamis)\n",
        "\n",
        "Contohnya seperti kasus berikut, pertama-tama kita membuat model lalu memanggil weight nya"
      ],
      "metadata": {
        "id": "RRReKKOAM6Ic"
      }
    },
    {
      "cell_type": "code",
      "source": [
        "net = keras.models.Sequential([\n",
        "    keras.layers.Dense(256, activation=tf.nn.relu),\n",
        "    keras.layers.Dense(10),\n",
        "])"
      ],
      "metadata": {
        "id": "G7sf225dM9J1"
      },
      "execution_count": 17,
      "outputs": []
    },
    {
      "cell_type": "code",
      "source": [
        "[net.layers[i].get_weights() for i in range(len(net.layers))]"
      ],
      "metadata": {
        "colab": {
          "base_uri": "https://localhost:8080/"
        },
        "id": "2SH5o-pWNCmy",
        "outputId": "9f2ab2e1-d016-490b-9eba-73563babb1c0"
      },
      "execution_count": 18,
      "outputs": [
        {
          "output_type": "execute_result",
          "data": {
            "text/plain": [
              "[[], []]"
            ]
          },
          "metadata": {},
          "execution_count": 18
        }
      ]
    },
    {
      "cell_type": "markdown",
      "source": [
        "Kita bisa melihat weightnya masih kosong karena belum diinisialisasikan sama sekali"
      ],
      "metadata": {
        "id": "nhNt68q5NFM-"
      }
    },
    {
      "cell_type": "code",
      "source": [
        "# Feed model dengan X\n",
        "net(X)\n",
        "\n",
        "[w.shape for w in net.get_weights()], net.layers[0].get_weights()[0]"
      ],
      "metadata": {
        "colab": {
          "base_uri": "https://localhost:8080/"
        },
        "id": "E5XC2pztNFpC",
        "outputId": "586e780c-02e3-44a7-b3c4-1b0581819b65"
      },
      "execution_count": 19,
      "outputs": [
        {
          "output_type": "execute_result",
          "data": {
            "text/plain": [
              "([(4, 256), (256,), (256, 10), (10,)],\n",
              " array([[ 0.12502024,  0.02418718,  0.11492026, ..., -0.01663141,\n",
              "          0.01777968, -0.13601425],\n",
              "        [-0.01434954,  0.10520825,  0.06597562, ...,  0.05124481,\n",
              "         -0.04649194,  0.00673318],\n",
              "        [ 0.03853755,  0.0249256 ,  0.08270018, ...,  0.15005407,\n",
              "         -0.07792979,  0.11418673],\n",
              "        [ 0.14403996, -0.14539026, -0.10201874, ..., -0.06597048,\n",
              "          0.02777791,  0.13900194]], dtype=float32))"
            ]
          },
          "metadata": {},
          "execution_count": 19
        }
      ]
    },
    {
      "cell_type": "markdown",
      "source": [
        "Barulah setelah data di-pass weightnya terinisialisasi. Ini dinamakan Deferred Initialization (penangguhan inisialisasi)."
      ],
      "metadata": {
        "id": "mg5X3yZ3NJkh"
      }
    },
    {
      "cell_type": "markdown",
      "source": [
        "**4. Custom Layers**\n",
        "\n",
        "Pada kasus-kasus tertentu, kita berhadapan dengan masalah di mana kita membutuhkan layer yang belum pernah dibuat atau belum ada pada library, untuk mengatasi masalah tersebut, kita bisa membuat layer kustom kita sendiri. Membuat layer kustom sama saja seperti membuat blok. Terdapat 2 jenis kustom layer: layer tanpa atau dengan parameter (seperti weight atau bias)\n",
        "\n",
        "**Layer tanpa parameter**\n",
        "\n",
        "Layer tanpa parameter merupakan layer yang tidak mempunyai weight dan bias di dalamnya (seperti layer flatten). Misal kita ingin membuat layer yang mengurangi input dengan satu"
      ],
      "metadata": {
        "id": "9PdExeAfNKHx"
      }
    },
    {
      "cell_type": "code",
      "source": [
        "class MinusOneLayer(keras.Model):\n",
        "    def __init__(self):\n",
        "        super().__init__()\n",
        "\n",
        "    def call(self, input):\n",
        "        return input - tf.ones(input.shape)"
      ],
      "metadata": {
        "id": "66L07MrkNRfv"
      },
      "execution_count": 20,
      "outputs": []
    },
    {
      "cell_type": "code",
      "source": [
        "layer_wo_params= MinusOneLayer()\n",
        "layer_wo_params(tf.constant([1.,2.,3.]))"
      ],
      "metadata": {
        "colab": {
          "base_uri": "https://localhost:8080/"
        },
        "id": "3Ff-Ql3YNVHF",
        "outputId": "b446b81a-29d6-4317-816d-5c3a36b676bf"
      },
      "execution_count": 21,
      "outputs": [
        {
          "output_type": "execute_result",
          "data": {
            "text/plain": [
              "<tf.Tensor: shape=(3,), dtype=float32, numpy=array([0., 1., 2.], dtype=float32)>"
            ]
          },
          "metadata": {},
          "execution_count": 21
        }
      ]
    },
    {
      "cell_type": "markdown",
      "source": [
        "Mengimplementasikannya pada model"
      ],
      "metadata": {
        "id": "TBEPXsqtNXaL"
      }
    },
    {
      "cell_type": "code",
      "source": [
        "net = keras.Sequential([keras.layers.Dense(128), MinusOneLayer()])"
      ],
      "metadata": {
        "id": "K1BYG7dBNX-w"
      },
      "execution_count": 22,
      "outputs": []
    },
    {
      "cell_type": "markdown",
      "source": [
        "**Layer dengan parameter**\n",
        "\n",
        "Layer dengan parameter mempunyai dan melibatkan weight dan bias pada operasinya. Misal kita ingin membuat layer dense yang berfungsi sama dengan layer dense pada umumnya (input * weight + bias lalu aktivasi). Walaupun kita mengatur/inisialisasi parameter semau kita, parameter juga tetap berubah saat proses back propagation"
      ],
      "metadata": {
        "id": "qjD8FuCeNbnf"
      }
    },
    {
      "cell_type": "code",
      "source": [
        "class MyDense(keras.Model):\n",
        "    # Di sini kita berikan dua parameter saja yaitu untuk output dan aktivasi (tentu saja kita bisa menambahkannya sesuai kebutuhan)\n",
        "    def __init__(self, units, activation=None):\n",
        "        super().__init__()\n",
        "        self.units = units\n",
        "        self.activation= activation\n",
        "\n",
        "    # Pada method build kita inisialisasi weight dan bias, fungsi build hanya dijalankan satu kali\n",
        "    # Jadi weight dan bias tetap akan ter-update saat back propagation\n",
        "    def build(self, X_shape):\n",
        "        self.weight = self.add_weight(name='weight',\n",
        "            shape=[X_shape[-1], self.units],\n",
        "            initializer=tf.random_normal_initializer())\n",
        "        self.bias = self.add_weight(\n",
        "            name='bias', shape=[self.units],\n",
        "            initializer=tf.zeros_initializer())\n",
        "\n",
        "    # Pada fungsi call kita melakukan operasi (input * weight + bias lalu aktivasi)\n",
        "    def call(self, X):\n",
        "        linear = tf.matmul(X, self.weight) + self.bias\n",
        "\n",
        "        if self.activation is None:\n",
        "            return linear\n",
        "        \n",
        "        return self.activation(linear)"
      ],
      "metadata": {
        "id": "VmTYLAD_NcdK"
      },
      "execution_count": 23,
      "outputs": []
    },
    {
      "cell_type": "code",
      "source": [
        "temp_dense= MyDense(5)\n",
        "temp_dense(X)\n",
        "\n",
        "temp_dense.get_weights()"
      ],
      "metadata": {
        "colab": {
          "base_uri": "https://localhost:8080/"
        },
        "id": "rGbKPT3WNkCT",
        "outputId": "36cc3fe8-32b3-4bfb-8666-4730d0e32795"
      },
      "execution_count": 24,
      "outputs": [
        {
          "output_type": "execute_result",
          "data": {
            "text/plain": [
              "[array([[-0.09609327,  0.0039675 , -0.00946576,  0.05620673,  0.01331143],\n",
              "        [-0.02206794,  0.04316601, -0.10465799,  0.02701032, -0.00904296],\n",
              "        [-0.00410918,  0.02375493, -0.02565541, -0.01757707, -0.06320279],\n",
              "        [ 0.0036046 ,  0.10722344,  0.03886317, -0.06740361, -0.01180181]],\n",
              "       dtype=float32), array([0., 0., 0., 0., 0.], dtype=float32)]"
            ]
          },
          "metadata": {},
          "execution_count": 24
        }
      ]
    },
    {
      "cell_type": "markdown",
      "source": [
        "Selanjutnya membuat model dengan 2 layer MyDense yang telah dibuat"
      ],
      "metadata": {
        "id": "2pIp2ov3NmLD"
      }
    },
    {
      "cell_type": "code",
      "source": [
        "net= keras.Sequential([\n",
        "    keras.layers.Flatten(),\n",
        "    MyDense(128, tf.nn.relu), \n",
        "    MyDense(64, tf.nn.relu), \n",
        "    MyDense(32, tf.nn.relu), \n",
        "    MyDense(10, tf.nn.softmax)\n",
        "])\n",
        "\n",
        "net.compile(optimizer='adam', loss='sparse_categorical_crossentropy', metrics=['accuracy'])"
      ],
      "metadata": {
        "id": "CnUKWKzpNmt7"
      },
      "execution_count": 25,
      "outputs": []
    },
    {
      "cell_type": "markdown",
      "source": [
        "Kita akan mengetes model tersebut pada dataset mnist"
      ],
      "metadata": {
        "id": "lutJQkgMNpMO"
      }
    },
    {
      "cell_type": "code",
      "source": [
        "(x_train, y_train), (x_test, y_test)= keras.datasets.mnist.load_data()\n",
        "x_train, x_test= x_train/255, x_test/255"
      ],
      "metadata": {
        "colab": {
          "base_uri": "https://localhost:8080/"
        },
        "id": "1d6D7IumNs8F",
        "outputId": "271b1ccd-ed5b-4562-f804-a8c1fc5d8231"
      },
      "execution_count": 26,
      "outputs": [
        {
          "output_type": "stream",
          "name": "stdout",
          "text": [
            "Downloading data from https://storage.googleapis.com/tensorflow/tf-keras-datasets/mnist.npz\n",
            "11493376/11490434 [==============================] - 0s 0us/step\n",
            "11501568/11490434 [==============================] - 0s 0us/step\n"
          ]
        }
      ]
    },
    {
      "cell_type": "code",
      "source": [
        "net.fit(x_train, y_train, epochs=3, batch_size= 128)"
      ],
      "metadata": {
        "colab": {
          "base_uri": "https://localhost:8080/"
        },
        "id": "CjochyQVNwMn",
        "outputId": "3144c165-093e-40fe-d0f5-accbce080ad8"
      },
      "execution_count": 27,
      "outputs": [
        {
          "output_type": "stream",
          "name": "stdout",
          "text": [
            "Epoch 1/3\n",
            "469/469 [==============================] - 4s 6ms/step - loss: 0.5412 - accuracy: 0.8410\n",
            "Epoch 2/3\n",
            "469/469 [==============================] - 3s 6ms/step - loss: 0.2023 - accuracy: 0.9420\n",
            "Epoch 3/3\n",
            "469/469 [==============================] - 3s 7ms/step - loss: 0.1433 - accuracy: 0.9579\n"
          ]
        },
        {
          "output_type": "execute_result",
          "data": {
            "text/plain": [
              "<keras.callbacks.History at 0x7f4def21a9d0>"
            ]
          },
          "metadata": {},
          "execution_count": 27
        }
      ]
    },
    {
      "cell_type": "code",
      "source": [
        "net.evaluate(x_test, y_test)"
      ],
      "metadata": {
        "colab": {
          "base_uri": "https://localhost:8080/"
        },
        "id": "52eE6U28NzNH",
        "outputId": "363de28f-5b12-4918-822a-c8aa07296791"
      },
      "execution_count": 28,
      "outputs": [
        {
          "output_type": "stream",
          "name": "stdout",
          "text": [
            "313/313 [==============================] - 1s 2ms/step - loss: 0.1254 - accuracy: 0.9620\n"
          ]
        },
        {
          "output_type": "execute_result",
          "data": {
            "text/plain": [
              "[0.1253914088010788, 0.9620000123977661]"
            ]
          },
          "metadata": {},
          "execution_count": 28
        }
      ]
    },
    {
      "cell_type": "markdown",
      "source": [
        "**5. File I/O**\n",
        "\n",
        "**Save / Load Tensor**\n",
        "\n",
        "Untuk tensor, kita bisa menggunakan numpy.save(namaFile.npy, tensor) untuk menyimpan tensor dan numpy.load(namaFile.npy) untuk memuatnya."
      ],
      "metadata": {
        "id": "oad-yKUWN3fZ"
      }
    },
    {
      "cell_type": "code",
      "source": [
        "save_x= tf.constant(['a', 'b', 'c'])\n",
        "save_x"
      ],
      "metadata": {
        "colab": {
          "base_uri": "https://localhost:8080/"
        },
        "id": "LopjnlygOGuT",
        "outputId": "ed0cd135-1381-4133-97e9-a05b37133795"
      },
      "execution_count": 29,
      "outputs": [
        {
          "output_type": "execute_result",
          "data": {
            "text/plain": [
              "<tf.Tensor: shape=(3,), dtype=string, numpy=array([b'a', b'b', b'c'], dtype=object)>"
            ]
          },
          "metadata": {},
          "execution_count": 29
        }
      ]
    },
    {
      "cell_type": "markdown",
      "source": [
        "Menyimpan tensor"
      ],
      "metadata": {
        "id": "8uBhKnwAOI3Y"
      }
    },
    {
      "cell_type": "code",
      "source": [
        "import numpy as np\n",
        "\n",
        "np.save('save-x.npy', save_x)"
      ],
      "metadata": {
        "id": "T4UDq_zSOJqd"
      },
      "execution_count": 30,
      "outputs": []
    },
    {
      "cell_type": "markdown",
      "source": [
        "Meload tensor"
      ],
      "metadata": {
        "id": "tqWk69tROMKo"
      }
    },
    {
      "cell_type": "code",
      "source": [
        "temp_x= np.load('save-x.npy', allow_pickle=True)\n",
        "temp_x"
      ],
      "metadata": {
        "colab": {
          "base_uri": "https://localhost:8080/"
        },
        "id": "n7Z1lPQ7ON_I",
        "outputId": "8322377d-1737-4893-a62b-228009904492"
      },
      "execution_count": 31,
      "outputs": [
        {
          "output_type": "execute_result",
          "data": {
            "text/plain": [
              "array([b'a', b'b', b'c'], dtype=object)"
            ]
          },
          "metadata": {},
          "execution_count": 31
        }
      ]
    },
    {
      "cell_type": "markdown",
      "source": [
        "**Save / Load Model Parameter**\n",
        "\n",
        "Misal model kita seperti ini"
      ],
      "metadata": {
        "id": "nBfRkqbFOSo_"
      }
    },
    {
      "cell_type": "code",
      "source": [
        "class MLP(tf.keras.Model):\n",
        "    def __init__(self):\n",
        "        super().__init__()\n",
        "        self.flatten = tf.keras.layers.Flatten()\n",
        "        self.hidden = tf.keras.layers.Dense(units=256, activation=tf.nn.relu)\n",
        "        self.out = tf.keras.layers.Dense(units=10)\n",
        "\n",
        "    def call(self, inputs):\n",
        "        x = self.flatten(inputs)\n",
        "        x = self.hidden(x)\n",
        "        return self.out(x)\n",
        "\n",
        "net= MLP()"
      ],
      "metadata": {
        "id": "6GQ0uoptOWyB"
      },
      "execution_count": 32,
      "outputs": []
    },
    {
      "cell_type": "markdown",
      "source": [
        "Lalu kita melakukan feed forward pada model"
      ],
      "metadata": {
        "id": "lmA036IhOZho"
      }
    },
    {
      "cell_type": "code",
      "source": [
        "Y1= net(X)\n",
        "Y1"
      ],
      "metadata": {
        "colab": {
          "base_uri": "https://localhost:8080/"
        },
        "id": "YY6GKOMWOaKY",
        "outputId": "f07e299a-7b1c-48d4-b0ac-e27ace2fc3b9"
      },
      "execution_count": 33,
      "outputs": [
        {
          "output_type": "execute_result",
          "data": {
            "text/plain": [
              "<tf.Tensor: shape=(2, 10), dtype=float32, numpy=\n",
              "array([[-0.05631888,  0.09221004, -0.0774105 ,  0.0601402 ,  0.1515707 ,\n",
              "        -0.08037113, -0.14321855, -0.02205836, -0.12156422, -0.02067745],\n",
              "       [-0.10202052,  0.06543152, -0.06169759,  0.11037045,  0.00150129,\n",
              "        -0.10857888, -0.13019027, -0.04600454, -0.18177006, -0.12013099]],\n",
              "      dtype=float32)>"
            ]
          },
          "metadata": {},
          "execution_count": 33
        }
      ]
    },
    {
      "cell_type": "markdown",
      "source": [
        "Sekarang kita akan menyimpan parameter model dengan fungsi save_weights('nama_weight.params')"
      ],
      "metadata": {
        "id": "7T-W_0ThOeFZ"
      }
    },
    {
      "cell_type": "code",
      "source": [
        "net.save_weights('mlp.params')"
      ],
      "metadata": {
        "id": "CGK7-RbnOfyP"
      },
      "execution_count": 34,
      "outputs": []
    },
    {
      "cell_type": "markdown",
      "source": [
        "Sekarang kita akan membuat model dengan arsitektur yang sama tapi tidak dilakukan feed forward, sebaliknya parameternya diambil/diload dari file parameter yang telah di-save sebelumnya"
      ],
      "metadata": {
        "id": "9n9TtbicOjHR"
      }
    },
    {
      "cell_type": "code",
      "source": [
        "net_2= MLP()\n",
        "net_2.load_weights('mlp.params')\n",
        "\n",
        "# Feed forward\n",
        "Y2= net_2(X)"
      ],
      "metadata": {
        "id": "fGTmksQyOj0k"
      },
      "execution_count": 35,
      "outputs": []
    },
    {
      "cell_type": "markdown",
      "source": [
        "Sekarang kita akan membandingkan variabel Y1 dengan Y2"
      ],
      "metadata": {
        "id": "Zoe05I5iOnaE"
      }
    },
    {
      "cell_type": "code",
      "source": [
        "Y1==Y2"
      ],
      "metadata": {
        "colab": {
          "base_uri": "https://localhost:8080/"
        },
        "id": "pdvuJhCnOp9M",
        "outputId": "5a1c9171-bad3-447a-8b52-cf3035e46203"
      },
      "execution_count": 36,
      "outputs": [
        {
          "output_type": "execute_result",
          "data": {
            "text/plain": [
              "<tf.Tensor: shape=(2, 10), dtype=bool, numpy=\n",
              "array([[ True,  True,  True,  True,  True,  True,  True,  True,  True,\n",
              "         True],\n",
              "       [ True,  True,  True,  True,  True,  True,  True,  True,  True,\n",
              "         True]])>"
            ]
          },
          "metadata": {},
          "execution_count": 36
        }
      ]
    },
    {
      "cell_type": "markdown",
      "source": [
        "Hasilnya adalah sama"
      ],
      "metadata": {
        "id": "v-jxotRQOtHF"
      }
    },
    {
      "cell_type": "markdown",
      "source": [
        "**6. GPUs**\n",
        "\n",
        "Mengecek ketersediaan GPU"
      ],
      "metadata": {
        "id": "i2c81MCxOtrr"
      }
    },
    {
      "cell_type": "code",
      "source": [
        "!nvidia-smi"
      ],
      "metadata": {
        "colab": {
          "base_uri": "https://localhost:8080/"
        },
        "id": "qVb0lqVKOx8-",
        "outputId": "7bde8759-106e-4495-8d41-f1a6bd270f74"
      },
      "execution_count": 37,
      "outputs": [
        {
          "output_type": "stream",
          "name": "stdout",
          "text": [
            "NVIDIA-SMI has failed because it couldn't communicate with the NVIDIA driver. Make sure that the latest NVIDIA driver is installed and running.\n",
            "\n"
          ]
        }
      ]
    },
    {
      "cell_type": "markdown",
      "source": [
        "Kita dapat menentukan device, seperti CPU dan GPU, untuk penyimpanan dan komputasi. Secara default, tensor dibuat di memori utama dan menggunakan CPU untuk komputasi."
      ],
      "metadata": {
        "id": "pMBgZWRBO65I"
      }
    },
    {
      "cell_type": "code",
      "source": [
        "tf.device('/CPU:0'), tf.device('/GPU:0'), tf.device('/GPU:1')"
      ],
      "metadata": {
        "colab": {
          "base_uri": "https://localhost:8080/"
        },
        "id": "dpY25sSPO7ei",
        "outputId": "a53bb64e-079c-479e-a8f1-42f4eda54326"
      },
      "execution_count": 38,
      "outputs": [
        {
          "output_type": "execute_result",
          "data": {
            "text/plain": [
              "(<tensorflow.python.eager.context._EagerDeviceContext at 0x7f4debaa3190>,\n",
              " <tensorflow.python.eager.context._EagerDeviceContext at 0x7f4debaa30a0>,\n",
              " <tensorflow.python.eager.context._EagerDeviceContext at 0x7f4debaa3f50>)"
            ]
          },
          "metadata": {},
          "execution_count": 38
        }
      ]
    },
    {
      "cell_type": "markdown",
      "source": [
        "Kita bisa menjalankan query untuk mendapatkan berapa banyak GPU dalam sistem"
      ],
      "metadata": {
        "id": "6v5M6QugO_W0"
      }
    },
    {
      "cell_type": "code",
      "source": [
        "len(tf.config.experimental.list_physical_devices('GPU'))"
      ],
      "metadata": {
        "colab": {
          "base_uri": "https://localhost:8080/"
        },
        "id": "fAYEHKtYO_7d",
        "outputId": "6af390cb-cdc3-4d19-ad21-1609f525453b"
      },
      "execution_count": 39,
      "outputs": [
        {
          "output_type": "execute_result",
          "data": {
            "text/plain": [
              "0"
            ]
          },
          "metadata": {},
          "execution_count": 39
        }
      ]
    },
    {
      "cell_type": "markdown",
      "source": [
        "**Tensor dan GPU**\n",
        "\n",
        "Secara default, tensor dibuat dalam CPU, untuk melihat di device mana suatu tensor berada kita bisa menjalankan fungsi seperti ini"
      ],
      "metadata": {
        "id": "HICcK4OcPDh_"
      }
    },
    {
      "cell_type": "code",
      "source": [
        "x = tf.constant([1, 2, 3])\n",
        "x.device"
      ],
      "metadata": {
        "colab": {
          "base_uri": "https://localhost:8080/",
          "height": 35
        },
        "id": "gvRrdWCJPJma",
        "outputId": "2fd79426-6977-4194-9008-e7d619dfc8c6"
      },
      "execution_count": 40,
      "outputs": [
        {
          "output_type": "execute_result",
          "data": {
            "text/plain": [
              "'/job:localhost/replica:0/task:0/device:CPU:0'"
            ],
            "application/vnd.google.colaboratory.intrinsic+json": {
              "type": "string"
            }
          },
          "metadata": {},
          "execution_count": 40
        }
      ]
    },
    {
      "cell_type": "markdown",
      "source": [
        "Outputnya mengatakan GPU karena saya menggunakan google colabs dan telah mengatur runtime pada saat penulisan kode, namun secara default, kalau tidak didefinisikan, akan mengeluarkan output CPU"
      ],
      "metadata": {
        "id": "di0Dfp_KPNTf"
      }
    },
    {
      "cell_type": "markdown",
      "source": [
        "**Menyetel penggunaan GPU**\n",
        "\n",
        "Misal kita ingin menggunakan GPU pertama atau GPU:0"
      ],
      "metadata": {
        "id": "jfH3zLcuPN0c"
      }
    },
    {
      "cell_type": "code",
      "source": [
        "tf.device('GPU:0')"
      ],
      "metadata": {
        "colab": {
          "base_uri": "https://localhost:8080/"
        },
        "id": "EMBDsC01PQ3q",
        "outputId": "5893b9ef-3c90-4906-8512-549623ba7972"
      },
      "execution_count": 41,
      "outputs": [
        {
          "output_type": "execute_result",
          "data": {
            "text/plain": [
              "<tensorflow.python.eager.context._EagerDeviceContext at 0x7f4deba95eb0>"
            ]
          },
          "metadata": {},
          "execution_count": 41
        }
      ]
    },
    {
      "cell_type": "code",
      "source": [
        "with tf.device('GPU:0'):\n",
        "    test = tf.ones((2, 3))\n",
        "\n",
        "test.device"
      ],
      "metadata": {
        "colab": {
          "base_uri": "https://localhost:8080/",
          "height": 35
        },
        "id": "EFGbVFpHPUuQ",
        "outputId": "f69978d2-f5a2-42d4-cfa2-de24c5da3d69"
      },
      "execution_count": 42,
      "outputs": [
        {
          "output_type": "execute_result",
          "data": {
            "text/plain": [
              "'/job:localhost/replica:0/task:0/device:CPU:0'"
            ],
            "application/vnd.google.colaboratory.intrinsic+json": {
              "type": "string"
            }
          },
          "metadata": {},
          "execution_count": 42
        }
      ]
    },
    {
      "cell_type": "markdown",
      "source": [
        "Hati-hati saat pemilihan GPU terutama jika kita memiliki lebih dari satu GPU dalam satu komputer, karena akan terjadi error jika kita melakukan operasi yang melibatkan 2 tensor yang berada di GPU yang berbeda"
      ],
      "metadata": {
        "id": "3eciK6dhPX6O"
      }
    }
  ]
}