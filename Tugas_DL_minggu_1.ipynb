{
  "nbformat": 4,
  "nbformat_minor": 0,
  "metadata": {
    "colab": {
      "name": "Tugas1 DL.ipynb",
      "provenance": []
    },
    "kernelspec": {
      "name": "python3",
      "display_name": "Python 3"
    },
    "language_info": {
      "name": "python"
    }
  },
  "cells": [
    {
      "cell_type": "markdown",
      "source": [
        "Nama : Annisa Putri Aulia\n",
        "Nim : H071191029\n",
        "\n",
        "Tugas Minggu 1 Deep Leearning\n",
        "\n",
        "soal : Pelajari Python"
      ],
      "metadata": {
        "id": "eZrFocDpHMr9"
      }
    },
    {
      "cell_type": "code",
      "source": [
        "print ('Hello World')"
      ],
      "metadata": {
        "colab": {
          "base_uri": "https://localhost:8080/"
        },
        "id": "Opea4J7_HT54",
        "outputId": "e256de4a-a5ef-4786-d455-fb64c9a6fa13"
      },
      "execution_count": 1,
      "outputs": [
        {
          "output_type": "stream",
          "name": "stdout",
          "text": [
            "Hello World\n"
          ]
        }
      ]
    },
    {
      "cell_type": "markdown",
      "source": [
        "**Variabel dan Tipe Data**\n",
        "\n",
        "Variabel singkatnya merupakan tempat menyimpan data pada memori. Berikut cara menginialisasi variabel serta penjelasan masing-masing tipe data"
      ],
      "metadata": {
        "id": "ck-3AGIcHmXV"
      }
    },
    {
      "cell_type": "code",
      "source": [
        "# Variabel dengan tipe data integer atau bilangan bulat\n",
        "var_int= 1\n",
        "\n",
        "# Float/Double = Bilangan desimal\n",
        "var_float= 0.5\n",
        "\n",
        "# String = Berisi kumpulan karakter\n",
        "var_string= 'hello'\n",
        "\n",
        "# Boolean = Mempunyai 2 value, True atau False\n",
        "var_bool= True\n",
        "\n",
        "# List = Himpunan\n",
        "var_list= [1, 2, 3]\n",
        "\n",
        "# Tuple = Serupa dengan list tapi tidak bisa dirubah (immutable)\n",
        "var_tuple= (1, 2, 3)\n",
        "\n",
        "# Numpy array = Berfungsi mirip dengan list, \n",
        "# Namun dimodifikasi agar dapat melakukan operasi aritmatika layaknya matriks, juga lebih cepat\n",
        "import numpy as np\n",
        "var_arr= np.array([1, 2, 3])\n",
        "\n",
        "# Dictionary = List tapi setiap elemennya berupa pasangan key dan value\n",
        "var_dict= {'satu': 1, 'dua': 2, 'tiga':3}\n",
        "\n",
        "# Set = Merupakan himpunan yang tidak memperbolehkan nilai duplikat\n",
        "var_set= set([1, 2, 1])"
      ],
      "metadata": {
        "id": "urmpBa_pHf4a"
      },
      "execution_count": 2,
      "outputs": []
    },
    {
      "cell_type": "markdown",
      "source": [
        "Operasi Aritmatika & **bitwise**"
      ],
      "metadata": {
        "id": "hj1SZ0YiHyYm"
      }
    },
    {
      "cell_type": "code",
      "source": [
        "# Operasi Aritmatika\n",
        "add= 1+2\n",
        "substract= 4-2\n",
        "divide= 1/2\n",
        "multiplication= 1*2\n",
        "modulo= 4%2\n",
        "power= 2 ** 2\n",
        "square_root= 4 ** (-2)\n",
        "\n",
        "# Operasi Bitwise\n",
        "and_= 1&2\n",
        "or_= 1|4\n",
        "xor= 4^2\n",
        "not_= ~4\n",
        "left_shift= 4<<1\n",
        "right_shift= 2>>1"
      ],
      "metadata": {
        "id": "I8CaHaw8H2VG"
      },
      "execution_count": 3,
      "outputs": []
    },
    {
      "cell_type": "code",
      "source": [
        "print('Operasi Penjumlahan:',add)\n",
        "print('Operasi Bitwise and:',and_)"
      ],
      "metadata": {
        "colab": {
          "base_uri": "https://localhost:8080/"
        },
        "id": "_NMvLb0BH9k2",
        "outputId": "c8e44d79-e6ae-468e-961e-8965863b4918"
      },
      "execution_count": 4,
      "outputs": [
        {
          "output_type": "stream",
          "name": "stdout",
          "text": [
            "Operasi Penjumlahan: 3\n",
            "Operasi Bitwise and: 0\n"
          ]
        }
      ]
    },
    {
      "cell_type": "markdown",
      "source": [
        "**Input dan Output**"
      ],
      "metadata": {
        "id": "XYqfZw0JH6gl"
      }
    },
    {
      "cell_type": "code",
      "source": [
        "# Input\n",
        "input_= input()\n",
        "\n",
        "# Input Integer\n",
        "input_int= int(input())\n",
        "\n",
        "# Multiple input in a row\n",
        "multiple_input= input().split()"
      ],
      "metadata": {
        "colab": {
          "base_uri": "https://localhost:8080/"
        },
        "id": "OS2Z2Hv1IK5K",
        "outputId": "aeefe84f-7d7b-43de-e221-1ef8f1337f71"
      },
      "execution_count": 5,
      "outputs": [
        {
          "name": "stdout",
          "output_type": "stream",
          "text": [
            "hello world!\n",
            "1\n",
            "a b d c\n"
          ]
        }
      ]
    },
    {
      "cell_type": "code",
      "source": [
        "# Print all of the input\n",
        "print(input_, input_int, multiple_input)"
      ],
      "metadata": {
        "colab": {
          "base_uri": "https://localhost:8080/"
        },
        "id": "q1ex3sb7IYRK",
        "outputId": "eba86692-dcfd-415d-f4d9-5ca2e8c71e16"
      },
      "execution_count": 6,
      "outputs": [
        {
          "output_type": "stream",
          "name": "stdout",
          "text": [
            "hello world! 1 ['a', 'b', 'd', 'c']\n"
          ]
        }
      ]
    },
    {
      "cell_type": "markdown",
      "source": [
        "**Pengondisian**\n",
        "\n",
        "Berikut sintaks pengondisian"
      ],
      "metadata": {
        "id": "uoR4SRRvIcjn"
      }
    },
    {
      "cell_type": "code",
      "source": [
        "# Sintaks if else\n",
        "num= 2\n",
        "\n",
        "if(num==2):\n",
        "    print('num is 2')\n",
        "elif(num==3):\n",
        "    print('num is 3')\n",
        "else:\n",
        "    print('num is not 2 or 3')\n",
        "    \n",
        "# Sintaks ternary\n",
        "print('num is 2' if num==2 else 'num is 3')"
      ],
      "metadata": {
        "colab": {
          "base_uri": "https://localhost:8080/"
        },
        "id": "TyAfEt3QIfJW",
        "outputId": "6047bc93-1917-4df7-9d96-e09977d15def"
      },
      "execution_count": 7,
      "outputs": [
        {
          "output_type": "stream",
          "name": "stdout",
          "text": [
            "num is 2\n",
            "num is 2\n"
          ]
        }
      ]
    },
    {
      "cell_type": "markdown",
      "source": [
        "Operator perbandingan dan logikal"
      ],
      "metadata": {
        "id": "6TKez0MHIlKc"
      }
    },
    {
      "cell_type": "markdown",
      "source": [
        "**Perulangan**\n",
        "\n",
        "Berikut cara melakukan print pada setiap elemen menggunakan setiap sintaks perulangan"
      ],
      "metadata": {
        "id": "NLN7x4GuInA8"
      }
    },
    {
      "cell_type": "code",
      "source": [
        "# Sintaks for loop\n",
        "list1= [1, 2, 3]\n",
        "\n",
        "for i in list1:\n",
        "    print(i)\n",
        "\n",
        "print()    \n",
        "\n",
        "# Sintkas while\n",
        "idx= 0\n",
        "while(idx!=len(list1)):\n",
        "    print(list1[idx])\n",
        "    idx+=1\n",
        "    \n",
        "print()\n",
        "    \n",
        "# Sintaks list comprehension\n",
        "print('\\n'.join([str(i) for i in list1]))"
      ],
      "metadata": {
        "colab": {
          "base_uri": "https://localhost:8080/"
        },
        "id": "QpgfKBxxIq6z",
        "outputId": "bee30897-9c97-4bbc-d586-03b538493b02"
      },
      "execution_count": 8,
      "outputs": [
        {
          "output_type": "stream",
          "name": "stdout",
          "text": [
            "1\n",
            "2\n",
            "3\n",
            "\n",
            "1\n",
            "2\n",
            "3\n",
            "\n",
            "1\n",
            "2\n",
            "3\n"
          ]
        }
      ]
    },
    {
      "cell_type": "markdown",
      "source": [
        "**Fungsi**"
      ],
      "metadata": {
        "id": "H4PvmQYfIu60"
      }
    },
    {
      "cell_type": "code",
      "source": [
        "# Fungsi void = fungsi yang tidak mengembalikan apa2 dan hanya mengerjakan blok kode di dalamnya\n",
        "def print_hello_world():\n",
        "    print('Hello World!')\n",
        "    \n",
        "# Fungsi dengan return\n",
        "def add(a, b):\n",
        "    return a+b"
      ],
      "metadata": {
        "id": "NEAWtqpRIxF6"
      },
      "execution_count": 9,
      "outputs": []
    },
    {
      "cell_type": "markdown",
      "source": [
        "memanggil fungsi"
      ],
      "metadata": {
        "id": "ndFtxP3bI24V"
      }
    },
    {
      "cell_type": "code",
      "source": [
        "print_hello_world()\n",
        "\n",
        "print(add(1,2))"
      ],
      "metadata": {
        "colab": {
          "base_uri": "https://localhost:8080/"
        },
        "id": "chiznbKII4cS",
        "outputId": "8b976877-7a1c-44a4-b064-11d617b5b292"
      },
      "execution_count": 10,
      "outputs": [
        {
          "output_type": "stream",
          "name": "stdout",
          "text": [
            "Hello World!\n",
            "3\n"
          ]
        }
      ]
    }
  ]
}