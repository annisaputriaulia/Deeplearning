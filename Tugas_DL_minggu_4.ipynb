{
  "nbformat": 4,
  "nbformat_minor": 0,
  "metadata": {
    "colab": {
      "name": "Tugas DL minggu 4.ipynb",
      "provenance": []
    },
    "kernelspec": {
      "name": "python3",
      "display_name": "Python 3"
    },
    "language_info": {
      "name": "python"
    }
  },
  "cells": [
    {
      "cell_type": "markdown",
      "source": [
        "Nama : Annisa Putri Aulia\n",
        "NIM : H071191029\n",
        "\n",
        "Tugas Deep Learning Minggu 4 \n",
        "soal : Pelajari arsitektur LeNet"
      ],
      "metadata": {
        "id": "D0RVIQhDQD7R"
      }
    },
    {
      "cell_type": "markdown",
      "source": [
        "**LeNet**\n",
        "\n",
        "LeNet atau LeNet-5 merupakan struktur CNN yang diusulkan oleh Yann LeCun et al. Struktur LeNet termasuk struktur yang sederhana, terdiri dari 2 layer konvolusi, 2 layer pooling, dan 3 Fully connected layer.\n",
        "\n",
        "LeNet cocok untuk masalah object recognition pada gambar hitam dan putih beresolusi rendah"
      ],
      "metadata": {
        "id": "4zvCeoIwQcP6"
      }
    },
    {
      "cell_type": "markdown",
      "source": [
        "**Implementasi LeNet dengan tensorflow**"
      ],
      "metadata": {
        "id": "k60fWUddQg8x"
      }
    },
    {
      "cell_type": "code",
      "source": [
        "import tensorflow as tf\n",
        "from tensorflow import keras\n",
        "\n",
        "import numpy as np\n",
        "from matplotlib import pyplot as plt"
      ],
      "metadata": {
        "id": "liILdSxgQevg"
      },
      "execution_count": 1,
      "outputs": []
    },
    {
      "cell_type": "markdown",
      "source": [
        "Kita akan melakukan klasifikasi pada dataset mnist menggunakan LeNet"
      ],
      "metadata": {
        "id": "ehoHkOlAQm1w"
      }
    },
    {
      "cell_type": "code",
      "source": [
        "# Load data\n",
        "(x_train, y_train), (x_test, y_test)= keras.datasets.mnist.load_data()\n",
        "\n",
        "# Normalisasi\n",
        "x_train= x_train/255\n",
        "x_test= x_test/255\n",
        "\n",
        "print(len(x_train), len(x_test))"
      ],
      "metadata": {
        "colab": {
          "base_uri": "https://localhost:8080/"
        },
        "id": "4AOU-BypQnl5",
        "outputId": "ce6ed306-ac5c-4e9c-aea7-18fff69ffc90"
      },
      "execution_count": 2,
      "outputs": [
        {
          "output_type": "stream",
          "name": "stdout",
          "text": [
            "Downloading data from https://storage.googleapis.com/tensorflow/tf-keras-datasets/mnist.npz\n",
            "11493376/11490434 [==============================] - 0s 0us/step\n",
            "11501568/11490434 [==============================] - 0s 0us/step\n",
            "60000 10000\n"
          ]
        }
      ]
    },
    {
      "cell_type": "code",
      "source": [
        "x_train[0].shape"
      ],
      "metadata": {
        "colab": {
          "base_uri": "https://localhost:8080/"
        },
        "id": "EJNxoXYVQris",
        "outputId": "961d1e09-8882-4d4e-9cb5-df712f4b6128"
      },
      "execution_count": 3,
      "outputs": [
        {
          "output_type": "execute_result",
          "data": {
            "text/plain": [
              "(28, 28)"
            ]
          },
          "metadata": {},
          "execution_count": 3
        }
      ]
    },
    {
      "cell_type": "markdown",
      "source": [
        "Selanjutnya kita membuat model LeNet sesuai struktur nya"
      ],
      "metadata": {
        "id": "QzrwdARMQs-8"
      }
    },
    {
      "cell_type": "code",
      "source": [
        "lenet= tf.keras.models.Sequential([\n",
        "  # Layer konvolusi dengan besar kernel 5x5, tidak ditambahkan padding, dan outputnya 6 channel\n",
        "  keras.layers.Conv2D(filters=6, kernel_size=5, activation='sigmoid', padding='same', input_shape=(28, 28, 1)),\n",
        "  keras.layers.AvgPool2D(pool_size=2, strides=2),\n",
        "  # Layer konvolusi dengan besar kernel 5x5, tidak ditambahkan padding, dan outputnya 16 channel\n",
        "  keras.layers.Conv2D(filters=16, kernel_size=5, activation='sigmoid'),\n",
        "  keras.layers.AvgPool2D(pool_size=2, strides=2),\n",
        "  # Mem-flatten feature map\n",
        "  keras.layers.Flatten(),\n",
        "  # 3 layer fcn\n",
        "  keras.layers.Dense(120, activation='sigmoid'),\n",
        "  keras.layers.Dense(84, activation='sigmoid'),\n",
        "  # Layer output terdiri dari 10 kelas sesuai kelas mnist\n",
        "  keras.layers.Dense(10)\n",
        "])"
      ],
      "metadata": {
        "id": "dDKw13WZQvAS"
      },
      "execution_count": 4,
      "outputs": []
    },
    {
      "cell_type": "markdown",
      "source": [
        "Struktur model yang baru saja dibuat"
      ],
      "metadata": {
        "id": "7gRgIc8MQ3Mz"
      }
    },
    {
      "cell_type": "code",
      "source": [
        "X = tf.random.uniform((1, 28, 28, 1))\n",
        "for layer in lenet.layers:\n",
        "    X = layer(X)\n",
        "    print(layer.__class__.__name__, 'output shape:\\t', X.shape)"
      ],
      "metadata": {
        "colab": {
          "base_uri": "https://localhost:8080/"
        },
        "id": "FxSlXcHzQ3sK",
        "outputId": "4ea4e585-e4a3-4867-8017-f14402a2018c"
      },
      "execution_count": 5,
      "outputs": [
        {
          "output_type": "stream",
          "name": "stdout",
          "text": [
            "Conv2D output shape:\t (1, 28, 28, 6)\n",
            "AveragePooling2D output shape:\t (1, 14, 14, 6)\n",
            "Conv2D output shape:\t (1, 10, 10, 16)\n",
            "AveragePooling2D output shape:\t (1, 5, 5, 16)\n",
            "Flatten output shape:\t (1, 400)\n",
            "Dense output shape:\t (1, 120)\n",
            "Dense output shape:\t (1, 84)\n",
            "Dense output shape:\t (1, 10)\n"
          ]
        }
      ]
    },
    {
      "cell_type": "markdown",
      "source": [
        "Meng-compile model dengan optimizer SGD dan loss function sparse categorical crossentropy lalu melakukan proses train dengan 10 epochs\n",
        "\n"
      ],
      "metadata": {
        "id": "QgJ6IEedQ7v3"
      }
    },
    {
      "cell_type": "code",
      "source": [
        "optimizer = keras.optimizers.SGD(learning_rate=0.9)\n",
        "loss = keras.losses.SparseCategoricalCrossentropy(from_logits=True)\n",
        "\n",
        "lenet.compile(optimizer=optimizer, loss=loss, metrics=['accuracy'])\n",
        "\n",
        "lenet.fit(x_train, y_train, epochs=10)"
      ],
      "metadata": {
        "colab": {
          "base_uri": "https://localhost:8080/"
        },
        "id": "VSQ308VMQ8E-",
        "outputId": "caefa46e-5e83-4327-b95b-8b0b346fdaa1"
      },
      "execution_count": 6,
      "outputs": [
        {
          "output_type": "stream",
          "name": "stdout",
          "text": [
            "Epoch 1/10\n",
            "1875/1875 [==============================] - 49s 26ms/step - loss: 2.3116 - accuracy: 0.1060\n",
            "Epoch 2/10\n",
            "1875/1875 [==============================] - 52s 28ms/step - loss: 2.3080 - accuracy: 0.1041\n",
            "Epoch 3/10\n",
            "1875/1875 [==============================] - 40s 21ms/step - loss: 2.3078 - accuracy: 0.1059\n",
            "Epoch 4/10\n",
            "1875/1875 [==============================] - 40s 21ms/step - loss: 2.3083 - accuracy: 0.1024\n",
            "Epoch 5/10\n",
            "1875/1875 [==============================] - 42s 22ms/step - loss: 2.3078 - accuracy: 0.1025\n",
            "Epoch 6/10\n",
            "1875/1875 [==============================] - 41s 22ms/step - loss: 2.3083 - accuracy: 0.1020\n",
            "Epoch 7/10\n",
            "1875/1875 [==============================] - 42s 22ms/step - loss: 2.3079 - accuracy: 0.1032\n",
            "Epoch 8/10\n",
            "1875/1875 [==============================] - 41s 22ms/step - loss: 2.3077 - accuracy: 0.1055\n",
            "Epoch 9/10\n",
            "1875/1875 [==============================] - 41s 22ms/step - loss: 2.3080 - accuracy: 0.1039\n",
            "Epoch 10/10\n",
            "1875/1875 [==============================] - 41s 22ms/step - loss: 2.3080 - accuracy: 0.1037\n"
          ]
        },
        {
          "output_type": "execute_result",
          "data": {
            "text/plain": [
              "<keras.callbacks.History at 0x7f96a07c1c50>"
            ]
          },
          "metadata": {},
          "execution_count": 6
        }
      ]
    },
    {
      "cell_type": "markdown",
      "source": [
        "Evaluasi"
      ],
      "metadata": {
        "id": "uvRmTnlvRA6n"
      }
    },
    {
      "cell_type": "code",
      "source": [
        "lenet.evaluate(x_test, y_test)"
      ],
      "metadata": {
        "colab": {
          "base_uri": "https://localhost:8080/"
        },
        "id": "eaQxX-KDRBrJ",
        "outputId": "e12226d0-3369-4605-adbe-258a2da152fa"
      },
      "execution_count": 7,
      "outputs": [
        {
          "output_type": "stream",
          "name": "stdout",
          "text": [
            "313/313 [==============================] - 4s 12ms/step - loss: 2.3141 - accuracy: 0.0982\n"
          ]
        },
        {
          "output_type": "execute_result",
          "data": {
            "text/plain": [
              "[2.31406831741333, 0.0982000008225441]"
            ]
          },
          "metadata": {},
          "execution_count": 7
        }
      ]
    },
    {
      "cell_type": "markdown",
      "source": [
        "**Visualisasi LeNet**\n",
        "\n",
        "Mengambil index layer dari LeNet yang merupakan layer konvolusi (termasuk layer pooling)"
      ],
      "metadata": {
        "id": "swThq2hURFYI"
      }
    },
    {
      "cell_type": "code",
      "source": [
        "conv_layers_idx_list= [i for i in range(len(lenet.layers)) if 'conv' in lenet.layers[i].name or 'pooling' in lenet.layers[i].name]\n",
        "\n",
        "conv_layers_idx_list"
      ],
      "metadata": {
        "colab": {
          "base_uri": "https://localhost:8080/"
        },
        "id": "hMg24MFbRHTA",
        "outputId": "4e772aaa-a956-4e30-c2f5-af00291fff9c"
      },
      "execution_count": 8,
      "outputs": [
        {
          "output_type": "execute_result",
          "data": {
            "text/plain": [
              "[0, 1, 2, 3]"
            ]
          },
          "metadata": {},
          "execution_count": 8
        }
      ]
    },
    {
      "cell_type": "markdown",
      "source": [
        "Fungsi untuk menampilkan gambar yang dihasilkan dari layer konvolusi"
      ],
      "metadata": {
        "id": "eD9CBZZIRK5o"
      }
    },
    {
      "cell_type": "code",
      "source": [
        "from numpy import expand_dims\n",
        "from keras.models import Model  \n",
        "\n",
        "def show_conv_layers(idx, img= None):\n",
        "    global lenet\n",
        "    temp_model = Model(inputs=lenet.inputs, outputs=lenet.layers[idx].output)\n",
        "\n",
        "    if img is None:\n",
        "        img = x_test[0]\n",
        "\n",
        "    img = expand_dims(img, axis=0)\n",
        "    feature_maps = temp_model.predict(img)\n",
        "    print(f'{lenet.layers[idx].name} : output gambar {feature_maps.shape[1]} x {feature_maps.shape[2]}, {feature_maps.shape[-1]} channel')\n",
        "\n",
        "    rows= feature_maps.shape[-1]  \n",
        "    idx = 0\n",
        "\n",
        "    plt.figure(figsize=(10,4))\n",
        "    for _ in range(rows):\n",
        "        ax = plt.subplot(1, rows, idx+1)\n",
        "        ax.set_xticks([])\n",
        "        ax.set_yticks([])\n",
        "        plt.imshow(feature_maps[0, :, :, idx], cmap='gray')\n",
        "        idx += 1\n",
        "\n",
        "    plt.show()"
      ],
      "metadata": {
        "id": "4K8GxHuXRMjd"
      },
      "execution_count": 9,
      "outputs": []
    },
    {
      "cell_type": "markdown",
      "source": [
        "Menampilkan output dari layer-layer konvolusi"
      ],
      "metadata": {
        "id": "ZE3TdqTwRSxX"
      }
    },
    {
      "cell_type": "code",
      "source": [
        "img= x_test[1]\n",
        "for i in conv_layers_idx_list:\n",
        "      show_conv_layers(i, img)"
      ],
      "metadata": {
        "colab": {
          "base_uri": "https://localhost:8080/",
          "height": 375
        },
        "id": "bS2tjDcmRTP6",
        "outputId": "05964bc0-d0e8-4631-82e1-4dff3a98f303"
      },
      "execution_count": 10,
      "outputs": [
        {
          "output_type": "stream",
          "name": "stdout",
          "text": [
            "conv2d : output gambar 28 x 28, 6 channel\n"
          ]
        },
        {
          "output_type": "display_data",
          "data": {
            "text/plain": [
              "<Figure size 720x288 with 6 Axes>"
            ],
            "image/png": "[encoded data removed]"
          },
          "metadata": {}
        },
        {
          "output_type": "stream",
          "name": "stdout",
          "text": [
            "average_pooling2d : output gambar 14 x 14, 6 channel\n"
          ]
        },
        {
          "output_type": "display_data",
          "data": {
            "text/plain": [
              "<Figure size 720x288 with 6 Axes>"
            ],
            "image/png": "[encoded data removed]"
          },
          "metadata": {}
        },
        {
          "output_type": "stream",
          "name": "stdout",
          "text": [
            "conv2d_1 : output gambar 10 x 10, 16 channel\n"
          ]
        },
        {
          "output_type": "display_data",
          "data": {
            "text/plain": [
              "<Figure size 720x288 with 16 Axes>"
            ],
            "image/png": "[encoded data removed]"
          },
          "metadata": {}
        },
        {
          "output_type": "stream",
          "name": "stdout",
          "text": [
            "average_pooling2d_1 : output gambar 5 x 5, 16 channel\n"
          ]
        },
        {
          "output_type": "display_data",
          "data": {
            "text/plain": [
              "<Figure size 720x288 with 16 Axes>"
            ],
            "image/png": "[encoded data removed]"
          },
          "metadata": {}
        }
      ]
    }
  ]
}